{
 "cells": [
  {
   "cell_type": "code",
   "execution_count": null,
   "id": "3ce83314-c859-4259-a9c9-703eec5f26de",
   "metadata": {},
   "outputs": [],
   "source": [
    "Q1. What is Abstraction in OOps? Explain with an example."
   ]
  },
  {
   "cell_type": "markdown",
   "id": "ea5303c4-43d8-4bd4-a56d-36d4cc7f325e",
   "metadata": {},
   "source": [
    "abstraction in opps is used to hidding the irrelevent data from the user and provide the code efficiency \n",
    "and reduce the complexity in the code . it has two type \n",
    "1 data abstraction- it only achieve through encapsulation\n",
    "2 process abstraction "
   ]
  },
  {
   "cell_type": "code",
   "execution_count": 4,
   "id": "d83ccdb2-db8d-401c-a44c-f3033c23851a",
   "metadata": {},
   "outputs": [],
   "source": [
    "#example\n",
    "import abc\n",
    "class abcd:\n",
    "    @abc.abstractmethod\n",
    "    def employee_details(self):\n",
    "        pass\n",
    "    @abc.abstractmethod\n",
    "    def employee_address(self):\n",
    "        pass\n",
    "    @abc.abstractmethod\n",
    "    def employee_account_details(self):\n",
    "        pass\n",
    "    "
   ]
  },
  {
   "cell_type": "code",
   "execution_count": 13,
   "id": "13dd263e-5ed3-4779-a828-40499b0dcfef",
   "metadata": {},
   "outputs": [],
   "source": [
    "class details_of_employee(abcd):\n",
    "    \n",
    "    def employee_details(self):\n",
    "        print('name,I_d,email_id')\n",
    "    \n",
    "    def employee_address(self):\n",
    "        print('abc street')\n",
    "    \n",
    "    def employee_account_details(self): \n",
    "        print('788xxx')"
   ]
  },
  {
   "cell_type": "code",
   "execution_count": 12,
   "id": "0165f306-716c-44a5-b292-698b01461721",
   "metadata": {},
   "outputs": [],
   "source": [
    "class details_of_employee2(abcd):\n",
    "    def employee_details(self):\n",
    "        print('name,I_d,email_id')\n",
    "    \n",
    "    def employee_address(self):\n",
    "        print('bagf street')\n",
    "    \n",
    "    def employee_account_details(self): \n",
    "        print('890xxx')"
   ]
  },
  {
   "cell_type": "code",
   "execution_count": 14,
   "id": "516f23e9-e10e-48f2-9878-20c3970fda24",
   "metadata": {},
   "outputs": [],
   "source": [
    "details_of_employee2=details_of_employee2()"
   ]
  },
  {
   "cell_type": "code",
   "execution_count": null,
   "id": "721b509f-1299-40f0-aaba-9698341e9019",
   "metadata": {},
   "outputs": [],
   "source": []
  },
  {
   "cell_type": "code",
   "execution_count": 18,
   "id": "c61dac8b-9235-4e2b-8764-bbc74b4e76bb",
   "metadata": {},
   "outputs": [
    {
     "name": "stdout",
     "output_type": "stream",
     "text": [
      "name,I_d,email_id\n"
     ]
    }
   ],
   "source": [
    "details_of_employee2.employee_details()"
   ]
  },
  {
   "cell_type": "code",
   "execution_count": 19,
   "id": "73d38d7a-cab9-4c97-91c1-328d514097de",
   "metadata": {},
   "outputs": [
    {
     "name": "stdout",
     "output_type": "stream",
     "text": [
      "bagf street\n"
     ]
    }
   ],
   "source": [
    "details_of_employee2.employee_address()"
   ]
  },
  {
   "cell_type": "code",
   "execution_count": null,
   "id": "cefc88ec-e5a8-4806-8b70-30fd9ac79d17",
   "metadata": {},
   "outputs": [],
   "source": [
    "Q2. Differentiate between Abstraction and Encapsulation. Explain with an example."
   ]
  },
  {
   "cell_type": "markdown",
   "id": "75f15f16-ad15-4802-8748-a284a93d049b",
   "metadata": {},
   "source": [
    "Abstraction-Abstraction solves the problem and issues that arise at the design stage.\n",
    "encapsulation-Encapsulation solves the problem and issue that arise at the implementation stage\n",
    "\n",
    "Abstraction-You can use abstraction using Interface and Abstract Class.\n",
    "encapsulation-You can implement encapsulation using Access Modifiers (Public, Protected & Private\n",
    "\n",
    "Abstraction-\tFocus mainly on what should be done.\n",
    "encapsulation-  Focus primarily on how it should be done."
   ]
  },
  {
   "cell_type": "code",
   "execution_count": 26,
   "id": "0d24068d-422b-4903-900a-f18ff01ab497",
   "metadata": {},
   "outputs": [],
   "source": [
    "#encapsulation\n",
    "class abx:\n",
    "    def __init__(self,name,mobile_no):\n",
    "        self.name=name\n",
    "        self.__mobile_no=mobile_no\n",
    "        "
   ]
  },
  {
   "cell_type": "code",
   "execution_count": 27,
   "id": "ed9fd9f8-4844-4ce0-8c86-13d38967f313",
   "metadata": {},
   "outputs": [],
   "source": [
    "abx=abx('avi',890755)"
   ]
  },
  {
   "cell_type": "code",
   "execution_count": 28,
   "id": "289ce868-0825-40fe-ac2c-09c1c58a3295",
   "metadata": {},
   "outputs": [
    {
     "data": {
      "text/plain": [
       "'avi'"
      ]
     },
     "execution_count": 28,
     "metadata": {},
     "output_type": "execute_result"
    }
   ],
   "source": [
    "abx.name"
   ]
  },
  {
   "cell_type": "code",
   "execution_count": 36,
   "id": "dc95e4b4-63cf-4bc7-b32c-dd33ffdcfcba",
   "metadata": {},
   "outputs": [],
   "source": [
    "#example abstraction\n",
    "import abc\n",
    "class abcd:\n",
    "    @abc.abstractmethod\n",
    "    def employee_details(self):\n",
    "        pass\n",
    "    @abc.abstractmethod\n",
    "    def employee_address(self):\n",
    "        pass\n",
    "    @abc.abstractmethod\n",
    "    def employee_account_details(self):\n",
    "        pass"
   ]
  },
  {
   "cell_type": "code",
   "execution_count": 37,
   "id": "92452fea-8e88-4544-8edb-ed59b6a5954d",
   "metadata": {},
   "outputs": [],
   "source": [
    "class details_of_employee(abcd):\n",
    "    \n",
    "    def employee_details(self):\n",
    "        print('name,I_d,email_id')\n",
    "    \n",
    "    def employee_address(self):\n",
    "        print('abc street')\n",
    "    \n",
    "    def employee_account_details(self): \n",
    "        print('788xxx')"
   ]
  },
  {
   "cell_type": "code",
   "execution_count": 38,
   "id": "f812317f-52a2-4e85-a58c-48cc12b4a276",
   "metadata": {},
   "outputs": [],
   "source": [
    "class details_of_employee2(abcd):\n",
    "    def employee_details(self):\n",
    "        print('name,I_d,email_id')\n",
    "    \n",
    "    def employee_address(self):\n",
    "        print('bagf street')\n",
    "    \n",
    "    def employee_account_details(self): \n",
    "        print('890xxx')"
   ]
  },
  {
   "cell_type": "code",
   "execution_count": 39,
   "id": "dee323f4-3d1e-424e-ad3e-c09d681a95d1",
   "metadata": {},
   "outputs": [],
   "source": [
    "details_of_employee2=details_of_employee2()"
   ]
  },
  {
   "cell_type": "code",
   "execution_count": 40,
   "id": "ebe3da4e-512c-4ffc-af53-af319c8ccf4b",
   "metadata": {},
   "outputs": [
    {
     "name": "stdout",
     "output_type": "stream",
     "text": [
      "name,I_d,email_id\n"
     ]
    }
   ],
   "source": [
    "details_of_employee2.employee_details()"
   ]
  },
  {
   "cell_type": "code",
   "execution_count": null,
   "id": "1fecb551-ce76-4746-a58c-a5aed99634d3",
   "metadata": {},
   "outputs": [],
   "source": [
    "Q3. What is abc module in python? Why is it used?"
   ]
  },
  {
   "cell_type": "markdown",
   "id": "d11aed3d-f17a-4a03-8d2c-36d6a1d72655",
   "metadata": {},
   "source": [
    "Abc module define abc meta class which is meta class for defining abstract base class\n",
    "it must be implement by its sub classes.A class is called an Abstract class if it contains one or more abstract methods. An abstract method is a method that is declared, but contains no implementation. Abstract classes may not be instantiated, and its abstract methods must be implemented by its subclasses.The abc module defines ABCMeta class which is a metaclass for defining abstract base class. Following example defines Shape class as an abstract base class using ABCMeta. The shape class has area() method decorated by abstractmethod.\n",
    "it is used define the blueprint for other classes offer the necessary tools for crafting an abstract base class"
   ]
  },
  {
   "cell_type": "code",
   "execution_count": null,
   "id": "54a2f760-6b2e-4eed-90f2-d06fbcffcbc5",
   "metadata": {},
   "outputs": [],
   "source": [
    "Q4. How can we achieve data abstraction?"
   ]
  },
  {
   "cell_type": "markdown",
   "id": "e9c5bf5d-1239-4a46-88cc-a945a38eb64e",
   "metadata": {},
   "source": [
    "Data Abstraction in Python is the process of hiding the real implementation of an application from the user and emphasizing only on usage of it.Basically, Abstraction focuses on hiding the internal implementations of a process or method from the user. In this way, the user knows what he is doing but not how the work is being done"
   ]
  },
  {
   "cell_type": "code",
   "execution_count": null,
   "id": "9f548b04-6606-4c51-80a8-7a44bca49238",
   "metadata": {},
   "outputs": [],
   "source": []
  },
  {
   "cell_type": "markdown",
   "id": "707ec7a6-6cf4-4e8a-a0cb-3d3b1ef2adc2",
   "metadata": {},
   "source": [
    "Abstract classes are not complete, as they may have some methods that are not defined. So we cannot create an instance or object of an abstract class in Python."
   ]
  }
 ],
 "metadata": {
  "kernelspec": {
   "display_name": "Python 3 (ipykernel)",
   "language": "python",
   "name": "python3"
  },
  "language_info": {
   "codemirror_mode": {
    "name": "ipython",
    "version": 3
   },
   "file_extension": ".py",
   "mimetype": "text/x-python",
   "name": "python",
   "nbconvert_exporter": "python",
   "pygments_lexer": "ipython3",
   "version": "3.10.8"
  }
 },
 "nbformat": 4,
 "nbformat_minor": 5
}
